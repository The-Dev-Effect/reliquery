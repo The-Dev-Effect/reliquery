{
 "cells": [
  {
   "cell_type": "code",
   "execution_count": null,
   "source": [
    "from reliquery import Relic, Reliquery"
   ],
   "outputs": [],
   "metadata": {}
  },
  {
   "cell_type": "markdown",
   "source": [
    "## Create Relics\n",
    "Relics are unique by name, relic type, and storage name. Storage names determine which storage you wish to use from your availble storages. These are either set up in a config file, are passed as environment variables, or the default local storage."
   ],
   "metadata": {}
  },
  {
   "cell_type": "code",
   "execution_count": null,
   "source": [
    "rq = Relic(name=\"tags\", relic_type=\"test\", storage_name=\"default\")\n",
    "rq2 = Relic(name=\"tags2\", relic_type=\"test\")"
   ],
   "outputs": [],
   "metadata": {}
  },
  {
   "cell_type": "markdown",
   "source": [
    "### Add data to relics\n",
    "add text to each relic and call describe method to see what data is on each relic"
   ],
   "metadata": {}
  },
  {
   "cell_type": "code",
   "execution_count": null,
   "source": [
    "rq.add_text(\"title\", \"This relic should be the only relic returned in all but one test\")\n",
    "rq2.add_text(\"title\", \"second fiddle relic\")"
   ],
   "outputs": [],
   "metadata": {}
  },
  {
   "cell_type": "code",
   "execution_count": null,
   "source": [
    "rq.describe(), rq2.describe()"
   ],
   "outputs": [],
   "metadata": {}
  },
  {
   "cell_type": "markdown",
   "source": [
    "## Querying Relics\n",
    "Create a reliquery object to query over relics. Reliquery automatically collects all the storages you have access to. Alternatively you can pass a Storage list to query over.\n",
    "Add tags to Relics to query against, passing in a tag as a key, value pair."
   ],
   "metadata": {}
  },
  {
   "cell_type": "code",
   "execution_count": null,
   "source": [
    "rel = Reliquery()"
   ],
   "outputs": [],
   "metadata": {}
  },
  {
   "cell_type": "markdown",
   "source": [
    "Storages available"
   ],
   "metadata": {}
  },
  {
   "cell_type": "code",
   "execution_count": null,
   "source": [
    "rel.storage_map.keys()"
   ],
   "outputs": [],
   "metadata": {}
  },
  {
   "cell_type": "markdown",
   "source": [
    "Add tags"
   ],
   "metadata": {}
  },
  {
   "cell_type": "code",
   "execution_count": null,
   "source": [
    "tags = {\n",
    "    \"color\": \"gold\",\n",
    "    \"author\": \"mike\",\n",
    "    \"exceptions\": \"true\"\n",
    "}\n",
    "\n",
    "tag = {\n",
    "    \"author\": \"mike\",\n",
    "}\n",
    "\n",
    "rq.add_tag(tags)\n",
    "rq2.add_tag(tag)"
   ],
   "outputs": [],
   "metadata": {}
  },
  {
   "cell_type": "markdown",
   "source": [
    "Query by tag key, value pair\n"
   ],
   "metadata": {}
  },
  {
   "cell_type": "code",
   "execution_count": null,
   "source": [
    "tagged_relics = rel.get_relics_by_tag(\"author\", \"mike\")\n",
    "len(tagged_relics)"
   ],
   "outputs": [],
   "metadata": {}
  },
  {
   "cell_type": "code",
   "execution_count": null,
   "source": [
    "for tagged in tagged_relics:\n",
    "    print(tagged.name)"
   ],
   "outputs": [],
   "metadata": {}
  },
  {
   "cell_type": "code",
   "execution_count": null,
   "source": [
    "len(rel.get_relics_by_tag(\"color\", \"gold\")) == 1"
   ],
   "outputs": [],
   "metadata": {}
  },
  {
   "cell_type": "code",
   "execution_count": null,
   "source": [
    "tagged_relics[0].describe()"
   ],
   "outputs": [],
   "metadata": {}
  }
 ],
 "metadata": {
  "kernelspec": {
   "display_name": "Python 3",
   "language": "python",
   "name": "python3"
  },
  "language_info": {
   "codemirror_mode": {
    "name": "ipython",
    "version": 3
   },
   "file_extension": ".py",
   "mimetype": "text/x-python",
   "name": "python",
   "nbconvert_exporter": "python",
   "pygments_lexer": "ipython3",
   "version": "3.8.8"
  }
 },
 "nbformat": 4,
 "nbformat_minor": 5
}