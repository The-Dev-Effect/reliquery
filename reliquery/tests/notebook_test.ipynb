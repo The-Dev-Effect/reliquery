{
 "cells": [
  {
   "cell_type": "code",
   "execution_count": 2,
   "id": "718a5f78",
   "metadata": {},
   "outputs": [],
   "source": [
    "from reliquery import Relic, Reliquery"
   ]
  },
  {
   "cell_type": "markdown",
   "id": "0487375d",
   "metadata": {},
   "source": [
    "## Create Relics\n",
    "Relics are unique by name, relic type, and storage name. Storage names determine which storage you wish to use from your availble storages. These are either set up in a config file, are passed as environment variables, or the default local storage."
   ]
  },
  {
   "cell_type": "code",
   "execution_count": 3,
   "id": "d995d1c8",
   "metadata": {},
   "outputs": [],
   "source": [
    "rq = Relic(name=\"tags\", relic_type=\"test\", storage_name=\"default\")\n",
    "rq2 = Relic(name=\"tags2\", relic_type=\"test\")"
   ]
  },
  {
   "cell_type": "markdown",
   "id": "b54650be",
   "metadata": {},
   "source": [
    "### Add data to relics\n",
    "add text to each relic and call describe method to see what data is on each relic"
   ]
  },
  {
   "cell_type": "code",
   "execution_count": 4,
   "id": "9d3868b1",
   "metadata": {},
   "outputs": [],
   "source": [
    "rq.add_text(\"title\", \"This relic should be the only relic returned in all but one test\")\n",
    "rq2.add_text(\"title\", \"second fiddle relic\")"
   ]
  },
  {
   "cell_type": "code",
   "execution_count": 5,
   "id": "e6de0007",
   "metadata": {},
   "outputs": [
    {
     "data": {
      "text/plain": [
       "({'tags': {'arrays': [],\n",
       "   'text': [{'id': None,\n",
       "     'name': 'title',\n",
       "     'data_type': 'text',\n",
       "     'relic_name': 'tags',\n",
       "     'relic_type': 'test',\n",
       "     'size': 113,\n",
       "     'shape': 64,\n",
       "     'last_modified': '11/12/2021 17:21:13'}],\n",
       "   'html': [],\n",
       "   'images': [],\n",
       "   'json': [],\n",
       "   'pandasdf': [],\n",
       "   'files': []}},\n",
       " {'tags2': {'arrays': [],\n",
       "   'text': [{'id': None,\n",
       "     'name': 'title',\n",
       "     'data_type': 'text',\n",
       "     'relic_name': 'tags2',\n",
       "     'relic_type': 'test',\n",
       "     'size': 68,\n",
       "     'shape': 19,\n",
       "     'last_modified': '11/12/2021 17:21:13'}],\n",
       "   'html': [],\n",
       "   'images': [],\n",
       "   'json': [],\n",
       "   'pandasdf': [],\n",
       "   'files': []}})"
      ]
     },
     "execution_count": 5,
     "metadata": {},
     "output_type": "execute_result"
    }
   ],
   "source": [
    "rq.describe(), rq2.describe()"
   ]
  },
  {
   "cell_type": "markdown",
   "id": "7fd043c7",
   "metadata": {},
   "source": [
    "## Querying Relics\n",
    "Create a reliquery object to query over relics. Reliquery automatically collects all the storages you have access to. Alternatively you can pass a Storage list to query over.\n",
    "Add tags to Relics to query against, passing in a tag as a key, value pair."
   ]
  },
  {
   "cell_type": "code",
   "execution_count": 6,
   "id": "8eb715d7",
   "metadata": {},
   "outputs": [],
   "source": [
    "rel = Reliquery()"
   ]
  },
  {
   "cell_type": "markdown",
   "id": "a9404e16",
   "metadata": {},
   "source": [
    "Storages available"
   ]
  },
  {
   "cell_type": "code",
   "execution_count": 7,
   "id": "f9891781",
   "metadata": {},
   "outputs": [
    {
     "data": {
      "text/plain": [
       "dict_keys(['default', 'demo'])"
      ]
     },
     "execution_count": 7,
     "metadata": {},
     "output_type": "execute_result"
    }
   ],
   "source": [
    "rel.storage_map.keys()"
   ]
  },
  {
   "cell_type": "markdown",
   "id": "e4be5a7a",
   "metadata": {},
   "source": [
    "Add tags"
   ]
  },
  {
   "cell_type": "code",
   "execution_count": 8,
   "id": "9e961c8e",
   "metadata": {},
   "outputs": [],
   "source": [
    "tags = {\n",
    "    \"color\": \"gold\",\n",
    "    \"author\": \"mike\",\n",
    "    \"exceptions\": \"true\"\n",
    "}\n",
    "\n",
    "tag = {\n",
    "    \"author\": \"mike\",\n",
    "}\n",
    "\n",
    "rq.add_tag(tags)\n",
    "rq2.add_tag(tag)"
   ]
  },
  {
   "cell_type": "markdown",
   "id": "17ef1a81",
   "metadata": {},
   "source": [
    "Query by tag key, value pair\n"
   ]
  },
  {
   "cell_type": "code",
   "execution_count": 9,
   "id": "d1f6c363",
   "metadata": {},
   "outputs": [
    {
     "data": {
      "text/plain": [
       "1"
      ]
     },
     "execution_count": 9,
     "metadata": {},
     "output_type": "execute_result"
    }
   ],
   "source": [
    "tagged_relics = rel.get_relics_by_tag(\"author\", \"mike\")\n",
    "len(tagged_relics)"
   ]
  },
  {
   "cell_type": "code",
   "execution_count": 10,
   "id": "d8a365cd",
   "metadata": {},
   "outputs": [
    {
     "name": "stdout",
     "output_type": "stream",
     "text": [
      "tags\n"
     ]
    }
   ],
   "source": [
    "for tagged in tagged_relics:\n",
    "    print(tagged.name)"
   ]
  },
  {
   "cell_type": "code",
   "execution_count": 11,
   "id": "7eb25f49",
   "metadata": {},
   "outputs": [
    {
     "data": {
      "text/plain": [
       "True"
      ]
     },
     "execution_count": 11,
     "metadata": {},
     "output_type": "execute_result"
    }
   ],
   "source": [
    "len(rel.get_relics_by_tag(\"color\", \"gold\")) == 1"
   ]
  },
  {
   "cell_type": "code",
   "execution_count": 12,
   "id": "4e6569ab",
   "metadata": {},
   "outputs": [
    {
     "name": "stderr",
     "output_type": "stream",
     "text": [
      "WARNING:root:No files found in directory relics/test/tags/metadata/arrays\n",
      "WARNING:root:No files found in directory relics/test/tags/metadata/html\n",
      "WARNING:root:No files found in directory relics/test/tags/metadata/images\n",
      "WARNING:root:No files found in directory relics/test/tags/metadata/pandasdf\n",
      "WARNING:root:No files found in directory relics/test/tags/metadata/files\n"
     ]
    },
    {
     "data": {
      "text/plain": [
       "{'tags': {'arrays': [],\n",
       "  'text': [{'id': None,\n",
       "    'name': 'title',\n",
       "    'data_type': 'text',\n",
       "    'relic_name': 'tags',\n",
       "    'relic_type': 'test',\n",
       "    'storage_name': 'dev',\n",
       "    'size': 113,\n",
       "    'shape': 64,\n",
       "    'last_modified': '10/19/2021 20:30:59'}],\n",
       "  'html': [],\n",
       "  'images': [],\n",
       "  'json': [{'id': None,\n",
       "    'name': 'info',\n",
       "    'data_type': 'json',\n",
       "    'relic_name': 'tags',\n",
       "    'relic_type': 'test',\n",
       "    'storage_name': 'dev',\n",
       "    'size': 232,\n",
       "    'shape': None,\n",
       "    'last_modified': '10/22/2021 17:45:32'},\n",
       "   {'id': None,\n",
       "    'name': 'info2',\n",
       "    'data_type': 'json',\n",
       "    'relic_name': 'tags',\n",
       "    'relic_type': 'test',\n",
       "    'storage_name': 'dev',\n",
       "    'size': 232,\n",
       "    'shape': None,\n",
       "    'last_modified': '10/19/2021 20:31:01'}],\n",
       "  'pandasdf': [],\n",
       "  'files': []}}"
      ]
     },
     "execution_count": 12,
     "metadata": {},
     "output_type": "execute_result"
    }
   ],
   "source": [
    "tagged_relics[0].describe()"
   ]
  }
 ],
 "metadata": {
  "kernelspec": {
   "display_name": "Python 3",
   "language": "python",
   "name": "python3"
  },
  "language_info": {
   "codemirror_mode": {
    "name": "ipython",
    "version": 3
   },
   "file_extension": ".py",
   "mimetype": "text/x-python",
   "name": "python",
   "nbconvert_exporter": "python",
   "pygments_lexer": "ipython3",
   "version": "3.8.8"
  }
 },
 "nbformat": 4,
 "nbformat_minor": 5
}
